{
 "cells": [
  {
   "cell_type": "code",
   "execution_count": null,
   "metadata": {
    "_cell_guid": "b1076dfc-b9ad-4769-8c92-a6c4dae69d19",
    "_uuid": "8f2839f25d086af736a60e9eeb907d3b93b6e0e5",
    "execution": {
     "iopub.execute_input": "2025-07-01T21:11:59.928469Z",
     "iopub.status.busy": "2025-07-01T21:11:59.927714Z"
    },
    "trusted": true
   },
   "outputs": [
    {
     "name": "stdout",
     "output_type": "stream",
     "text": [
      "🔄 Setting up repository...\n",
      "✅ Repository set up successfully\n",
      "✅ .env file found\n",
      "🇸🇦 Arabic Lip Reading Server - Kaggle Edition with LocalTunnel\n",
      "======================================================================\n",
      "📊 Configuration:\n",
      "   Host: 0.0.0.0\n",
      "   Port: 8000\n",
      "   Log Level: info\n",
      "   Tunnel Subdomain: arabic-lip-reading\n",
      "   Environment File: .env found\n",
      "======================================================================\n",
      "🚀 Starting Arabic Lip Reading Server...\n",
      "📦 Installing Python dependencies...\n",
      "✅ Python dependencies installed\n",
      "🔧 Setting up Node.js and LocalTunnel...\n",
      "v18.20.5\n",
      "✅ Node.js already installed\n",
      "Installing LocalTunnel...\n",
      "\n",
      "changed 22 packages in 984ms\n",
      "\n",
      "3 packages are looking for funding\n",
      "  run `npm fund` for details\n",
      "✅ LocalTunnel installed successfully\n",
      "\n",
      "✅ Setup complete!\n",
      "📁 Backend directory: /kaggle/working/Arabic-Lip-Reading/backend\n",
      "🌐 Local URL: http://0.0.0.0:8000\n",
      "🚀 Starting FastAPI server on 0.0.0.0:8000 ...\n",
      "🔄 Starting LocalTunnel...\n",
      "🌐 Starting LocalTunnel for port 8000 with subdomain 'arabic-lip-reading'...\n",
      "\n",
      "🌍 PUBLIC URL: https://arabic-lip-reading.loca.lt\n",
      "🔗 Use this URL to access your API from anywhere!\n"
     ]
    },
    {
     "name": "stderr",
     "output_type": "stream",
     "text": [
      "INFO:     Started server process [2137]\n",
      "INFO:     Waiting for application startup.\n",
      "INFO:     Application startup complete.\n",
      "INFO:     Uvicorn running on http://0.0.0.0:8000 (Press CTRL+C to quit)\n"
     ]
    },
    {
     "name": "stdout",
     "output_type": "stream",
     "text": [
      "INFO:     156.223.8.110:0 - \"GET /config HTTP/1.1\" 200 OK\n",
      "INFO:     156.223.8.110:0 - \"POST /transcribe/ HTTP/1.1\" 404 Not Found\n",
      "INFO:     156.223.8.110:0 - \"POST /transcribe/ HTTP/1.1\" 404 Not Found\n",
      "INFO:     156.223.8.110:0 - \"POST /transcribe/ HTTP/1.1\" 200 OK\n",
      "INFO:     156.223.8.110:0 - \"GET /progress/d189183e-6ee4-4e27-a3a3-94ac3d3ffea6 HTTP/1.1\" 200 OK\n",
      "INFO:     156.223.8.110:0 - \"POST /transcribe/ HTTP/1.1\" 200 OK\n",
      "INFO:     156.223.8.110:0 - \"POST /transcribe/ HTTP/1.1\" 200 OK\n",
      "INFO:     156.223.8.110:0 - \"GET /config HTTP/1.1\" 200 OK\n",
      "INFO:     156.223.8.110:0 - \"POST /transcribe/ HTTP/1.1\" 404 Not Found\n",
      "INFO:     156.223.8.110:0 - \"POST /transcribe/ HTTP/1.1\" 200 OK\n"
     ]
    },
    {
     "name": "stderr",
     "output_type": "stream",
     "text": [
      "Downloading...\n",
      "From (original): https://drive.google.com/uc?id=1GOuoBdy2imSFf0Df7hvLAwtjnz6CA0gG\n",
      "From (redirected): https://drive.google.com/uc?id=1GOuoBdy2imSFf0Df7hvLAwtjnz6CA0gG&confirm=t&uuid=6fc03fa9-8399-40fc-bba7-802921dda527\n",
      "To: /kaggle/working/Arabic-Lip-Reading/backend/models/mstcn_model_dia.pth\n",
      "100%|██████████| 335M/335M [00:20<00:00, 16.6MB/s] \n"
     ]
    },
    {
     "name": "stdout",
     "output_type": "stream",
     "text": [
      "INFO:     156.223.8.110:0 - \"GET /progress/4768998e-7fd4-4a7f-86ae-d9612dcb20a9 HTTP/1.1\" 200 OK\n",
      "INFO:     156.223.8.110:0 - \"POST /transcribe/ HTTP/1.1\" 200 OK\n"
     ]
    },
    {
     "name": "stderr",
     "output_type": "stream",
     "text": [
      "Downloading...\n",
      "From (original): https://drive.google.com/uc?id=1WV7b4_HBFlQc0WTdusnmiBaHVZ-jSIwz\n",
      "From (redirected): https://drive.google.com/uc?id=1WV7b4_HBFlQc0WTdusnmiBaHVZ-jSIwz&confirm=t&uuid=fb61ae20-1b9c-440b-8e21-e93c8ab8bddc\n",
      "To: /kaggle/working/Arabic-Lip-Reading/backend/models/mstcn_model_nodia.pth\n",
      "100%|██████████| 334M/334M [00:09<00:00, 37.0MB/s] \n"
     ]
    },
    {
     "name": "stdout",
     "output_type": "stream",
     "text": [
      "INFO:     156.223.8.110:0 - \"POST /transcribe/ HTTP/1.1\" 200 OK\n"
     ]
    },
    {
     "name": "stderr",
     "output_type": "stream",
     "text": [
      "Downloading...\n",
      "From (original): https://drive.google.com/uc?id=1RR5NpkRYeBgap4umhFmkGqLqebBhmSWK\n",
      "From (redirected): https://drive.google.com/uc?id=1RR5NpkRYeBgap4umhFmkGqLqebBhmSWK&confirm=t&uuid=9f9b8df9-5186-47a2-9cc7-0737ce2dc478\n",
      "To: /kaggle/working/Arabic-Lip-Reading/backend/models/dctcn_model_nodia.pth\n",
      "100%|██████████| 851M/851M [00:21<00:00, 39.9MB/s] \n"
     ]
    },
    {
     "name": "stdout",
     "output_type": "stream",
     "text": [
      "INFO:     156.223.8.110:0 - \"GET /config HTTP/1.1\" 200 OK\n",
      "INFO:     156.223.8.110:0 - \"POST /transcribe/ HTTP/1.1\" 200 OK\n",
      "INFO:     156.223.8.110:0 - \"GET /progress/a5b79a7b-e526-4fc6-a99b-78752a801af8 HTTP/1.1\" 200 OK\n",
      "INFO:     156.223.8.110:0 - \"POST /transcribe/ HTTP/1.1\" 200 OK\n",
      "INFO:     156.223.8.110:0 - \"POST /transcribe/ HTTP/1.1\" 200 OK\n"
     ]
    },
    {
     "name": "stderr",
     "output_type": "stream",
     "text": [
      "Downloading...\n",
      "From (original): https://drive.google.com/uc?id=1ImUWor_PynWnXNQqInEY_6_98LEJTd6c\n",
      "From (redirected): https://drive.google.com/uc?id=1ImUWor_PynWnXNQqInEY_6_98LEJTd6c&confirm=t&uuid=5509f241-7aff-4c36-a57a-603f1504fc3c\n",
      "To: /kaggle/working/Arabic-Lip-Reading/backend/models/dctcn_model_dia.pth\n",
      "100%|██████████| 852M/852M [00:25<00:00, 33.2MB/s] \n"
     ]
    },
    {
     "name": "stdout",
     "output_type": "stream",
     "text": [
      "INFO:     156.223.8.110:0 - \"POST /transcribe/ HTTP/1.1\" 200 OK\n",
      "INFO:     156.223.8.110:0 - \"POST /transcribe/ HTTP/1.1\" 200 OK\n",
      "INFO:     156.223.8.110:0 - \"GET /config HTTP/1.1\" 200 OK\n",
      "INFO:     156.223.8.110:0 - \"POST /transcribe/ HTTP/1.1\" 200 OK\n",
      "INFO:     156.223.8.110:0 - \"GET /progress/1eb37a2f-d6cf-4c81-ba94-337b6b31ae5a HTTP/1.1\" 200 OK\n",
      "INFO:     156.223.8.110:0 - \"POST /transcribe/ HTTP/1.1\" 200 OK\n",
      "INFO:     156.223.8.110:0 - \"POST /transcribe/ HTTP/1.1\" 200 OK\n",
      "INFO:     156.223.8.110:0 - \"POST /transcribe/ HTTP/1.1\" 200 OK\n",
      "INFO:     156.223.8.110:0 - \"POST /transcribe/ HTTP/1.1\" 200 OK\n",
      "INFO:     156.223.8.110:0 - \"GET /progress/f79feae2-2d8b-49a6-bd39-ded15a5aa434 HTTP/1.1\" 200 OK\n",
      "INFO:     156.223.8.110:0 - \"POST /transcribe/ HTTP/1.1\" 200 OK\n",
      "INFO:     156.223.8.110:0 - \"POST /transcribe/ HTTP/1.1\" 200 OK\n",
      "INFO:     156.223.8.110:0 - \"GET /config HTTP/1.1\" 200 OK\n",
      "INFO:     156.223.8.110:0 - \"POST /transcribe/ HTTP/1.1\" 200 OK\n",
      "INFO:     156.223.8.110:0 - \"GET /progress/000d7724-9a23-4d25-a247-b1585cbca94a HTTP/1.1\" 200 OK\n",
      "INFO:     156.223.8.110:0 - \"GET /config HTTP/1.1\" 200 OK\n",
      "INFO:     156.223.8.110:0 - \"GET /config HTTP/1.1\" 200 OK\n",
      "INFO:     156.223.8.110:0 - \"POST /transcribe/ HTTP/1.1\" 200 OK\n",
      "INFO:     156.223.8.110:0 - \"POST /transcribe/ HTTP/1.1\" 200 OK\n",
      "INFO:     156.223.8.110:0 - \"GET /progress/94ac4452-938f-427b-92f6-562ac02763c0 HTTP/1.1\" 200 OK\n",
      "INFO:     156.223.8.110:0 - \"GET /progress/94ac4452-938f-427b-92f6-562ac02763c0/status HTTP/1.1\" 200 OK\n",
      "INFO:     156.223.8.110:0 - \"GET /progress/94ac4452-938f-427b-92f6-562ac02763c0/status HTTP/1.1\" 200 OK\n",
      "INFO:     156.223.8.110:0 - \"GET /progress/94ac4452-938f-427b-92f6-562ac02763c0/status HTTP/1.1\" 200 OK\n",
      "INFO:     156.223.8.110:0 - \"GET /progress/94ac4452-938f-427b-92f6-562ac02763c0/status HTTP/1.1\" 200 OK\n",
      "INFO:     156.223.8.110:0 - \"POST /transcribe/ HTTP/1.1\" 200 OK\n",
      "INFO:     156.223.8.110:0 - \"GET /progress/910da536-a95a-413c-a886-a80abee19a3a HTTP/1.1\" 200 OK\n",
      "INFO:     156.223.8.110:0 - \"GET /progress/910da536-a95a-413c-a886-a80abee19a3a/status HTTP/1.1\" 200 OK\n",
      "INFO:     156.223.8.110:0 - \"GET /progress/910da536-a95a-413c-a886-a80abee19a3a/status HTTP/1.1\" 200 OK\n",
      "INFO:     156.223.8.110:0 - \"GET /progress/910da536-a95a-413c-a886-a80abee19a3a/status HTTP/1.1\" 200 OK\n",
      "INFO:     156.223.8.110:0 - \"GET /progress/910da536-a95a-413c-a886-a80abee19a3a/status HTTP/1.1\" 200 OK\n",
      "INFO:     156.223.8.110:0 - \"GET /config HTTP/1.1\" 200 OK\n",
      "INFO:     156.223.8.110:0 - \"POST /transcribe/ HTTP/1.1\" 200 OK\n",
      "INFO:     156.223.8.110:0 - \"POST /transcribe/ HTTP/1.1\" 200 OK\n",
      "INFO:     156.223.8.110:0 - \"GET /progress/8fa54d46-ba3b-45bb-b594-781805486a39 HTTP/1.1\" 200 OK\n",
      "INFO:     156.223.8.110:0 - \"GET /progress/8fa54d46-ba3b-45bb-b594-781805486a39/status HTTP/1.1\" 200 OK\n",
      "INFO:     156.223.8.110:0 - \"GET /progress/8fa54d46-ba3b-45bb-b594-781805486a39/status HTTP/1.1\" 200 OK\n",
      "INFO:     156.223.8.110:0 - \"GET /progress/8fa54d46-ba3b-45bb-b594-781805486a39/status HTTP/1.1\" 200 OK\n",
      "INFO:     156.223.8.110:0 - \"GET /progress/8fa54d46-ba3b-45bb-b594-781805486a39/status HTTP/1.1\" 200 OK\n",
      "INFO:     156.223.8.110:0 - \"GET /config HTTP/1.1\" 200 OK\n",
      "INFO:     156.223.8.110:0 - \"POST /transcribe/ HTTP/1.1\" 200 OK\n",
      "INFO:     156.223.8.110:0 - \"GET /config HTTP/1.1\" 200 OK\n",
      "INFO:     156.223.8.110:0 - \"POST /transcribe/ HTTP/1.1\" 200 OK\n",
      "INFO:     156.223.8.110:0 - \"POST /transcribe/ HTTP/1.1\" 200 OK\n",
      "INFO:     156.223.8.110:0 - \"POST /transcribe/ HTTP/1.1\" 200 OK\n",
      "INFO:     156.223.8.110:0 - \"GET /progress/28d5f167-38e3-4def-9b71-84f54de10116 HTTP/1.1\" 200 OK\n",
      "INFO:     156.223.8.110:0 - \"POST /transcribe/ HTTP/1.1\" 200 OK\n",
      "INFO:     156.223.8.110:0 - \"GET /progress/28d5f167-38e3-4def-9b71-84f54de10116/status HTTP/1.1\" 200 OK\n",
      "INFO:     156.223.8.110:0 - \"GET /progress/863207d1-b210-488a-adf6-d9b6065bc4d0 HTTP/1.1\" 200 OK\n",
      "INFO:     156.223.8.110:0 - \"GET /progress/863207d1-b210-488a-adf6-d9b6065bc4d0/status HTTP/1.1\" 200 OK\n",
      "INFO:     156.223.8.110:0 - \"GET /progress/28d5f167-38e3-4def-9b71-84f54de10116/status HTTP/1.1\" 200 OK\n",
      "INFO:     156.223.8.110:0 - \"GET /progress/863207d1-b210-488a-adf6-d9b6065bc4d0/status HTTP/1.1\" 200 OK\n",
      "INFO:     156.223.8.110:0 - \"GET /progress/28d5f167-38e3-4def-9b71-84f54de10116/status HTTP/1.1\" 200 OK\n",
      "INFO:     156.223.8.110:0 - \"GET /progress/863207d1-b210-488a-adf6-d9b6065bc4d0/status HTTP/1.1\" 200 OK\n",
      "INFO:     156.223.8.110:0 - \"GET /progress/28d5f167-38e3-4def-9b71-84f54de10116/status HTTP/1.1\" 200 OK\n",
      "INFO:     156.223.8.110:0 - \"GET /progress/863207d1-b210-488a-adf6-d9b6065bc4d0/status HTTP/1.1\" 200 OK\n",
      "INFO:     156.223.8.110:0 - \"GET /config HTTP/1.1\" 200 OK\n",
      "INFO:     156.223.8.110:0 - \"GET /config HTTP/1.1\" 200 OK\n",
      "INFO:     156.223.8.110:0 - \"GET /config HTTP/1.1\" 200 OK\n",
      "INFO:     156.223.8.110:0 - \"POST /transcribe/ HTTP/1.1\" 200 OK\n",
      "INFO:     156.223.8.110:0 - \"GET /config HTTP/1.1\" 200 OK\n",
      "INFO:     156.223.8.110:0 - \"GET /config HTTP/1.1\" 200 OK\n",
      "INFO:     156.223.8.110:0 - \"POST /transcribe/ HTTP/1.1\" 200 OK\n",
      "INFO:     156.223.8.110:0 - \"GET /progress/fb5be690-0562-40d2-acb3-327ebc8698fa HTTP/1.1\" 200 OK\n",
      "INFO:     156.223.8.110:0 - \"GET /config HTTP/1.1\" 200 OK\n",
      "INFO:     156.223.8.110:0 - \"POST /transcribe/ HTTP/1.1\" 200 OK\n",
      "INFO:     156.223.8.110:0 - \"GET /progress/66c19dc1-2320-46c9-90f0-998f02561c3d HTTP/1.1\" 200 OK\n",
      "INFO:     156.223.8.110:0 - \"GET /config HTTP/1.1\" 200 OK\n",
      "INFO:     156.223.8.110:0 - \"POST /transcribe/ HTTP/1.1\" 200 OK\n",
      "INFO:     156.223.8.110:0 - \"GET /progress/e2645cc8-cde5-4b7d-a97c-697e7a443fc9 HTTP/1.1\" 200 OK\n",
      "INFO:     156.223.8.110:0 - \"POST /transcribe/ HTTP/1.1\" 200 OK\n"
     ]
    }
   ],
   "source": [
    "import os\n",
    "import sys\n",
    "import subprocess\n",
    "\n",
    "REPO_URL = \"https://github.com/Essa-Ramzy/Arabic-Lip-Reading\"\n",
    "KAGGLE_WORKING_DIR = \"/kaggle/working\"\n",
    "\n",
    "def run_command(command, cwd=None):\n",
    "    \"\"\"Run a shell command and stream output to notebook cell in real time\"\"\"\n",
    "    try:\n",
    "        process = subprocess.Popen(\n",
    "            command,\n",
    "            shell=True,\n",
    "            stdout=subprocess.PIPE,\n",
    "            stderr=subprocess.STDOUT,\n",
    "            text=True,\n",
    "            cwd=cwd\n",
    "        )\n",
    "        for line in process.stdout:\n",
    "            print(line, end='')\n",
    "        process.stdout.close()\n",
    "        process.wait()\n",
    "        return process\n",
    "    except Exception as e:\n",
    "        print(f\"❌ Exception while running: {command}\")\n",
    "        print(f\"Error: {e}\")\n",
    "        return None\n",
    "        \n",
    "\n",
    "def setup_repository():\n",
    "    \"\"\"Clone and set up the Arabic Lip Reading repository\"\"\"\n",
    "    print(\"🔄 Setting up repository...\")\n",
    "    \n",
    "    os.chdir(KAGGLE_WORKING_DIR)\n",
    "    \n",
    "    repo_path = os.path.join(KAGGLE_WORKING_DIR, \"Arabic-Lip-Reading\")\n",
    "    \n",
    "    if not os.path.exists(\"Arabic-Lip-Reading\"):\n",
    "        # Clone without checkout\n",
    "        result = run_command(f\"git clone --filter=blob:none --no-checkout {REPO_URL}\")\n",
    "        if result is None or result.returncode != 0:\n",
    "            print(f\"❌ Failed: git clone\")\n",
    "            return None\n",
    "        \n",
    "        cmds = [\n",
    "            \"git sparse-checkout init --cone\",\n",
    "            \"git sparse-checkout set model preparation backend\",\n",
    "            \"git checkout\"\n",
    "        ]\n",
    "        for cmd in cmds:\n",
    "            result = run_command(cmd, cwd=repo_path)\n",
    "            if result is None or result.returncode != 0:\n",
    "                print(f\"❌ Failed: {cmd}\")\n",
    "                return None\n",
    "\n",
    "    # Set Python paths\n",
    "    model_path = os.path.join(repo_path, \"model\")\n",
    "    preparation_path = os.path.join(repo_path, \"preparation/retinaface\")\n",
    "    backend_path = os.path.join(repo_path, \"backend\")\n",
    "    \n",
    "    for path in [repo_path, model_path, preparation_path, backend_path]:\n",
    "        if path not in sys.path:\n",
    "            sys.path.insert(0, path)\n",
    "\n",
    "    print(\"✅ Repository set up successfully\")\n",
    "    return backend_path\n",
    "\n",
    "backend_dir = setup_repository()\n",
    "\n",
    "sys.path.append(backend_dir)\n",
    "from localtunnel import main\n",
    "main()"
   ]
  }
 ],
 "metadata": {
  "kaggle": {
   "accelerator": "gpu",
   "dataSources": [],
   "dockerImageVersionId": 31040,
   "isGpuEnabled": true,
   "isInternetEnabled": true,
   "language": "python",
   "sourceType": "notebook"
  },
  "kernelspec": {
   "display_name": "Python 3",
   "language": "python",
   "name": "python3"
  },
  "language_info": {
   "codemirror_mode": {
    "name": "ipython",
    "version": 3
   },
   "file_extension": ".py",
   "mimetype": "text/x-python",
   "name": "python",
   "nbconvert_exporter": "python",
   "pygments_lexer": "ipython3",
   "version": "3.11.11"
  }
 },
 "nbformat": 4,
 "nbformat_minor": 4
}
